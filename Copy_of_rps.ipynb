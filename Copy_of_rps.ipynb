{
  "nbformat": 4,
  "nbformat_minor": 0,
  "metadata": {
    "colab": {
      "provenance": []
    },
    "kernelspec": {
      "name": "python3",
      "display_name": "Python 3"
    },
    "language_info": {
      "name": "python"
    }
  },
  "cells": [
    {
      "cell_type": "code",
      "execution_count": null,
      "metadata": {
        "colab": {
          "base_uri": "https://localhost:8080/"
        },
        "id": "pAzJHRIo6OjK",
        "outputId": "33dcf13b-7361-409a-ce67-32f9ccce3bbb"
      },
      "outputs": [
        {
          "output_type": "stream",
          "name": "stdout",
          "text": [
            "select how many rounds you want to play:1\n",
            "select between rock, paper, scissor: rock\n",
            "user: rock computer: rock\n",
            "draw\n",
            "user point:  0\n",
            "computer point:  0\n",
            "Final result: draw\n"
          ]
        }
      ],
      "source": [
        "import random\n",
        "game = [\"rock\", \"paper\", \"scissor\"]\n",
        "computer = game[random.randint(0,2)]\n",
        "cpoint = 0\n",
        "upoint = 0\n",
        "round = int(input(\"select how many rounds you want to play:\"))\n",
        "for i in range(round):\n",
        "    user = input(\"select between rock, paper, scissor: \")\n",
        "    if user == computer:\n",
        "        print(\"user:\",user,     \"computer:\",computer)\n",
        "        print(\"draw\")\n",
        "    elif user ==\"rock\" and computer ==\"scissor\":\n",
        "        print(\"user:\",user,     \"computer:\",computer)\n",
        "        print(\"user win\")\n",
        "        upoint += 1\n",
        "    elif user ==\"rock\" and computer ==\"paper\":\n",
        "        print(\"user:\",user,     \"computer:\",computer)\n",
        "        print(\"computer win\")\n",
        "        cpoint += 1\n",
        "    elif user ==\"paper\" and computer ==\"rock\":\n",
        "        print(\"user:\",user,     \"computer:\",computer)\n",
        "        print(\"user win\")\n",
        "        upoint += 1\n",
        "    elif user ==\"paper\" and computer ==\"scissor\":\n",
        "        print(\"user:\",user,     \"computer:\",computer)\n",
        "        print(\"computer win\")\n",
        "        cpoint += 1\n",
        "    elif user ==\"scissor\" and computer ==\"paper\":\n",
        "        print(\"user:\",user,     \"computer:\",computer)\n",
        "        print(\"user win\")\n",
        "        upoint += 1\n",
        "    elif user ==\"scissor\" and computer ==\"rock\":\n",
        "        print(\"user:\",user,     \"computer:\",computer)\n",
        "        print(\"computer win\")\n",
        "        cpoint += 1\n",
        "    else:\n",
        "        print(\"invalid input\")\n",
        "print(\"user point: \",upoint)\n",
        "print(\"computer point: \",cpoint)\n",
        "if upoint > cpoint:\n",
        "    print(\"Final result: user won\")\n",
        "elif upoint < cpoint:\n",
        "    print(\"Final result: computer won\")\n",
        "else:\n",
        "    print(\"Final result: draw\")\n"
      ]
    }
  ]
}